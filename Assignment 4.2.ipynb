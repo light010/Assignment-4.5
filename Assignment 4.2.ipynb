{
 "cells": [
  {
   "cell_type": "markdown",
   "metadata": {},
   "source": [
    "* **Possible outcomes for each trial(rolling the die) is =** {getting a 'D', not getting a 'D'}"
   ]
  },
  {
   "cell_type": "markdown",
   "metadata": {},
   "source": [
    "* **Thus only two outcomes are possible**"
   ]
  },
  {
   "cell_type": "markdown",
   "metadata": {},
   "source": [
    "* **There are fixed multiple number of trials(rolling the die) and every trial's outcome is independent to each other** "
   ]
  },
  {
   "cell_type": "markdown",
   "metadata": {},
   "source": [
    "### Thus it is a case of Binomial distribution"
   ]
  },
  {
   "cell_type": "markdown",
   "metadata": {},
   "source": [
    "   &nbsp; &nbsp; &nbsp; **X = number of times getting a 'D'**<br>\n",
    "   \n",
    "   &nbsp; &nbsp; &nbsp; **probability of success i.e. probability of getting a 'D' out of die = $1/5$**<br>\n",
    "   \n",
    "   &nbsp; &nbsp; &nbsp; **no. of times the trial has been performed i.e. number of times rolling the die = $50$**"
   ]
  },
  {
   "cell_type": "markdown",
   "metadata": {},
   "source": [
    "***\n",
    "* **probability of getting a 'D' exactly 5 times out of 50 times is :-** \n",
    "$$p(X=5)  =  {50 \\choose 5} \\times (1/5)^5 \\times (4/5)^{45} $$\n",
    "\n",
    "here -<br>\n",
    "$1/5$ is the probability of success<br>\n",
    "$4/5$ is the probability of unsuccess<br>\n",
    "${50 \\choose 5}$ becoz there are several sequences of getting 'D' 5 times over all 50 times rolling the die."
   ]
  },
  {
   "cell_type": "markdown",
   "metadata": {},
   "source": [
    "***\n",
    "## Calculating - ${50 \\choose 5}$"
   ]
  },
  {
   "cell_type": "code",
   "execution_count": 4,
   "metadata": {},
   "outputs": [
    {
     "data": {
      "text/plain": [
       "2118760"
      ]
     },
     "execution_count": 4,
     "metadata": {},
     "output_type": "execute_result"
    }
   ],
   "source": [
    "# A Python program to find no. of combinations of getting 'D' 5 times over all 50 times rolling the die\n",
    "from itertools import combinations\n",
    "\n",
    "sett = []\n",
    "for i in range(50):\n",
    "    sett.append(i)      #list of no. ranging from 0 t0 49\n",
    "    \n",
    "comb = list(combinations(sett, 5))     #all combinations of getting five no. out of twenty no.\n",
    "\n",
    "comb_len = len(comb)         #total no. of all combinations\n",
    "comb_len"
   ]
  },
  {
   "cell_type": "markdown",
   "metadata": {},
   "source": [
    "***\n",
    "## probability of getting exactly 5 times 'D' out of 50 times rolling of die :-"
   ]
  },
  {
   "cell_type": "markdown",
   "metadata": {},
   "source": [
    "$${50 \\choose 5} \\times (1/5)^5 \\times (4/5)^{45} $$"
   ]
  },
  {
   "cell_type": "code",
   "execution_count": 5,
   "metadata": {},
   "outputs": [
    {
     "data": {
      "text/plain": [
       "0.029531204310524296"
      ]
     },
     "execution_count": 5,
     "metadata": {},
     "output_type": "execute_result"
    }
   ],
   "source": [
    "prob = comb_len * ((1/5)**5) * ((4/5)**45)\n",
    "prob"
   ]
  }
 ],
 "metadata": {
  "kernelspec": {
   "display_name": "Python 3",
   "language": "python",
   "name": "python3"
  },
  "language_info": {
   "codemirror_mode": {
    "name": "ipython",
    "version": 3
   },
   "file_extension": ".py",
   "mimetype": "text/x-python",
   "name": "python",
   "nbconvert_exporter": "python",
   "pygments_lexer": "ipython3",
   "version": "3.6.3"
  }
 },
 "nbformat": 4,
 "nbformat_minor": 2
}
